{
 "cells": [
  {
   "cell_type": "markdown",
   "metadata": {},
   "source": [
    "# Exploration and Creation\n",
    "\n",
    "This assignment requires that you to find datasets on the web which are related, and that you visualize these datasets to answer a question with the broad topic of **sports or athletics** (see below) for the region of **Whitmore Lake, Michigan, United States**, or **United States** more broadly.\n",
    "\n",
    "Here are the assignment instructions:\n",
    "\n",
    " * State the region and the domain category that your data sets are about (e.g., **Whitmore Lake, Michigan, United States** and **sports or athletics**).\n",
    " * You must state a question about the domain category and region that you identified as being interesting.\n",
    " * You must provide links to available datasets. These could be links to files such as CSV or Excel files, or links to websites which might have data in tabular form, such as Wikipedia pages.\n",
    " * You must upload an image which addresses the research question you stated. In addition to addressing the question, this visual should follow Cairo's principles of truthfulness, functionality, beauty, and insightfulness.\n",
    " * You must contribute a short (1-2 paragraph) written justification of how your visualization addresses your stated research question.\n",
    "\n",
    "What do we mean by **sports or athletics**?  For this category we are interested in sporting events or athletics broadly, please feel free to creatively interpret the category when building your research question!"
   ]
  },
  {
   "cell_type": "code",
   "execution_count": 1,
   "metadata": {
    "collapsed": false
   },
   "outputs": [],
   "source": [
    "import pandas as pd"
   ]
  },
  {
   "cell_type": "markdown",
   "metadata": {},
   "source": [
    "Data is from: https://www.maxpreps.com/mi/whitmore-lake/whitmore-lake-trojans/football/roster/all-time/"
   ]
  },
  {
   "cell_type": "code",
   "execution_count": 2,
   "metadata": {
    "collapsed": false
   },
   "outputs": [],
   "source": [
    "whitmore_lake_2021_22 = {'Name':['Knudsen, Antonio(Jr.)',\n",
    "                                      'Bradburn, Carter(Jr.)',\n",
    "                                      'Hollister, Justin(Sr.)',\n",
    "                                      'Brady, Isaac(Jr.)',\n",
    "                                      'Cryer, William(Jr.)',\n",
    "                                      'Konwinski, Aiden(Jr.)',\n",
    "                                      'Clay, Tristan(Jr.)',\n",
    "                                      'Wilson, Jaxon(Fr.)',\n",
    "                                      'Ellinger, Parker(So.)',\n",
    "                                      'Ellinger, Jaskson(Sr.)',\n",
    "                                      'Medina, Jackson(So.)',\n",
    "                                      'Pomorski, Dylan(So.)',\n",
    "                                      'Fox, Donovan(Fr.)',\n",
    "                                      'Francis, Nathan(Jr.)',\n",
    "                                      'Tanner, Alex(Sr.)',\n",
    "                                      'Garcia, Jace(Jr.)',\n",
    "                                      'Fraga, Josh(Sr.)',\n",
    "                                      'Kurth, Alex(So.)',\n",
    "                                      'Riel, Thomas(Jr.)',\n",
    "                                      'Hollister, Russell(So.)',\n",
    "                                      'Adams, Preston(Sr.)',\n",
    "                                      'Fraga, Nate(So.)']}\n",
    "\n",
    "df_2021_22 = pd.DataFrame(whitmore_lake_2021_22)\n",
    "df_2021_22['Batch'] = df_2021_22['Name'].str[-4:-2]\n",
    "df_2021_22['Name'] = df_2021_22['Name'].str[:-5]\n",
    "df_2021_22['Year'] = 2021"
   ]
  },
  {
   "cell_type": "code",
   "execution_count": 3,
   "metadata": {
    "collapsed": false
   },
   "outputs": [],
   "source": [
    "whitmore_lake_2020_21 = {'Name':['Garcia, Jace(So.)',\n",
    "                                 'Tanner, Alex(Jr.)',\n",
    "                                 'Francis, Nathan(So.)',\n",
    "                                 'Fraga, Nate(Fr.)',\n",
    "                                 'Hollister, Russell(Fr.)',\n",
    "                                 'Brady, Isaac(So.)',\n",
    "                                 'Clay, Tristan(So.)',\n",
    "                                 'Riel, Thomas(So.)',\n",
    "                                 'Pomorski, Dylan(Fr.)',\n",
    "                                 'Konwinski, Aiden(So.)',\n",
    "                                 'Medina, Jackson(Fr.)',\n",
    "                                 'Fraga, Josh(Jr.)',\n",
    "                                 'Kurth, Alex(Fr.)',\n",
    "                                 'Hollister, Justin(Jr.)',\n",
    "                                 'Cryer, William(So.)',\n",
    "                                 'Ellinger, Parker(Fr.)',\n",
    "                                 'Ellinger, Jaskson(Jr.)']}\n",
    "\n",
    "df_2020_21 = pd.DataFrame(whitmore_lake_2020_21)\n",
    "df_2020_21['Batch'] = df_2020_21['Name'].str[-4:-2]\n",
    "df_2020_21['Name'] = df_2020_21['Name'].str[:-5]\n",
    "df_2020_21['Year'] = 2020"
   ]
  },
  {
   "cell_type": "code",
   "execution_count": 4,
   "metadata": {
    "collapsed": true
   },
   "outputs": [],
   "source": [
    "whitmore_lake_2019_20 = {'Name':['Ellinger, Jaskson(So.)',\n",
    "                                 'Fraga, Josh(So.)',\n",
    "                                 'Cryer, William(Fr.)',\n",
    "                                 'Hollister, Justin(So.)',\n",
    "                                 'Tanner, Alex(So.)',\n",
    "                                 'Brady, Isaac(Fr.)',\n",
    "                                 'Francis, Nathan(Fr.)',\n",
    "                                 'Riel, Thomas(Fr.)',\n",
    "                                 'Clay, Tristan(Fr.)',\n",
    "                                 'Konwinski, Aiden(Fr.)']}\n",
    "\n",
    "df_2019_20 = pd.DataFrame(whitmore_lake_2019_20)\n",
    "df_2019_20['Batch'] = df_2019_20['Name'].str[-4:-2]\n",
    "df_2019_20['Name'] = df_2019_20['Name'].str[:-5]\n",
    "df_2019_20['Year'] = 2019"
   ]
  },
  {
   "cell_type": "code",
   "execution_count": 5,
   "metadata": {
    "collapsed": true
   },
   "outputs": [],
   "source": [
    "whitmore_lake_2018_19 = {'Name':['Hollister, Justin(Fr.)',\n",
    "                                 'Ellinger, Jaskson(Fr.)',\n",
    "                                 'Fraga, Josh(Fr.)',\n",
    "                                 'Tanner, Alex(Fr.)']}\n",
    "\n",
    "df_2018_19 = pd.DataFrame(whitmore_lake_2018_19)\n",
    "df_2018_19['Batch'] = df_2018_19['Name'].str[-4:-2]\n",
    "df_2018_19['Name'] = df_2018_19['Name'].str[:-5]\n",
    "df_2018_19['Year'] = 2018"
   ]
  },
  {
   "cell_type": "code",
   "execution_count": 6,
   "metadata": {
    "collapsed": false
   },
   "outputs": [],
   "source": [
    "whitmore_lake_2017_18 = {'Name':['Williams, Alex(So.)',\n",
    "                                 'Turnau, Joey(Sr.)',\n",
    "                                 'Thoman, Ryan(Sr.)',\n",
    "                                 'Kurth, Logan(Fr.)',\n",
    "                                 'Vaughan, Evan(So.)',\n",
    "                                 'Brady, Zach(So.)',\n",
    "#                                  'Sechrist, Simeon',\n",
    "                                 'Stults, Luke(Fr.)',\n",
    "                                 'Adams, Sebastian(So.)',\n",
    "                                 'Watts, Kyle(Sr.)',\n",
    "                                 'Pasciak, Bryan(Sr.)',\n",
    "                                 'Coon, Connor(Fr.)',\n",
    "                                 'Ogden, Nate(Sr.)',\n",
    "                                 'Spiegelberg, Evan(Sr.)',\n",
    "                                 'Pike, Aj(Sr.)',\n",
    "                                 'Romeo, Evan(So.)',\n",
    "                                 'Henning, Cole(So.)',\n",
    "                                 'Cichy, Devin(Fr.)',\n",
    "                                 'Kobeck, Zach(So.)',\n",
    "                                 'Esper, Jon(Fr.)',\n",
    "                                 'Angel, Izaak(Jr.)',\n",
    "                                 'Leach, Steven(Sr.)',\n",
    "                                 'Stultz, Luke(Fr.)',\n",
    "                                 'Farr, Alexz(So.)',\n",
    "                                 'Cichy, Devon(Fr.)',\n",
    "                                 'Corrie, Michael(Fr.)',\n",
    "#                                  'Ellinger, Jaskson',\n",
    "                                 'Burkhart, Luke(Sr.)',\n",
    "                                 'Peltier, Aiden(Jr.)']}\n",
    "\n",
    "df_2017_18 = pd.DataFrame(whitmore_lake_2017_18)\n",
    "df_2017_18['Batch'] = df_2017_18['Name'].str[-4:-2]\n",
    "df_2017_18['Name'] = df_2017_18['Name'].str[:-5]\n",
    "df_2017_18['Year'] = 2017"
   ]
  },
  {
   "cell_type": "code",
   "execution_count": 7,
   "metadata": {
    "collapsed": true
   },
   "outputs": [],
   "source": [
    "whitmore_lake_2016_17 = {'Name':['Williams, Alex(Fr.)',\n",
    "                                 'Robertson, Jared(So.)',\n",
    "#                                  'Corrie, Michael',\n",
    "                                 'Vershum, Blake(Sr.)',\n",
    "                                 'Leach, Steven(Jr.)',\n",
    "#                                  'Cichy, Devon',\n",
    "                                 'Watts, Kyle(Jr.)',\n",
    "                                 'Beier, Drew(Sr.)',\n",
    "#                                  'Stults, Luke',\n",
    "#                                  'Kurth, Logan',\n",
    "                                 'Peltier, Aiden(So.)',\n",
    "                                 'Kobeck, Zach(Fr.)',\n",
    "                                 'Wheeler, Austin(Sr.)',\n",
    "                                 'Adams, Sebastian(Fr.)',\n",
    "                                 'Pasciak, Bryan(Jr.)',\n",
    "                                 'Ogden, Nate(Jr.)',\n",
    "                                 'Farr, Alexz(Fr.)',\n",
    "                                 'Tanner, Austin(Sr.)',\n",
    "                                 'Thoman, Ryan(Jr.)',\n",
    "                                 'Romeo, Evan(Fr.)',\n",
    "                                 'Brady, Zach(Fr.)',\n",
    "                                 'Spiegelberg, Evan(Jr.)',\n",
    "                                 'Iaquinto, Spencer(Sr.)',\n",
    "                                 'Turnau, Joey(Jr.)',\n",
    "                                 'Dreffs, Alex(So.)',\n",
    "                                 'Angel, Izaak(So.)',\n",
    "                                 'Pike, Aj(Jr.)',\n",
    "                                 'Henning, Cole(Fr.)',\n",
    "                                 'Burkhart, Luke(Jr.)',\n",
    "                                 'Vaughan, Evan(Fr.)',\n",
    "#                                  'Coon, Connor',\n",
    "                                 'Mckneelen, Zachary(Sr.)']}\n",
    "\n",
    "df_2016_17 = pd.DataFrame(whitmore_lake_2016_17)\n",
    "df_2016_17['Batch'] = df_2016_17['Name'].str[-4:-2]\n",
    "df_2016_17['Name'] = df_2016_17['Name'].str[:-5]\n",
    "df_2016_17['Year'] = 2016"
   ]
  },
  {
   "cell_type": "code",
   "execution_count": 8,
   "metadata": {
    "collapsed": true
   },
   "outputs": [],
   "source": [
    "whitmore_lake_2015_16 = {'Name':['Tanner, Austin(Jr.)',\n",
    "                                 'Dunn, Jacob(Sr.)',\n",
    "                                 'Hula, Ben(Sr.)',\n",
    "                                 'Rothwell, Cody(Sr.)',\n",
    "                                 'Flood, Austin(Sr.)',\n",
    "                                 'Gregory, Dj(Sr.)',\n",
    "                                 'Edwards, Austin(Sr.)',\n",
    "                                 'Burkhart, Luke(So.)',\n",
    "                                 'Beckstein, Cody(Sr.)',\n",
    "                                 'Ogden, Nate(So.)',\n",
    "                                 'Beier, Drew(Jr.)',\n",
    "                                 'Dewyer, Deonte(Sr.)',\n",
    "                                 'Watts, Kyle(So.)',\n",
    "                                 'Rondeau, Jim(Sr.)',\n",
    "                                 'Porter, Bobby(Jr.)',\n",
    "                                 'Iaquinto, Spencer(Jr.)',\n",
    "                                 'Bowen, Zak(Sr.)',\n",
    "                                 'Wheeler, Austin(Jr.)',\n",
    "                                 'Weisberg, Matt(So.)',\n",
    "                                 'Moll, Jordan(Sr.)',\n",
    "                                 'Leach, Steven(So.)',\n",
    "                                 'Mckneelen, Zachary(Jr.)',\n",
    "                                 'Pasciak, Brian(So.)',\n",
    "                                 'Turnau, Joey(So.)',\n",
    "                                 'Dalke, Elijah(Sr.)',\n",
    "                                 'Murphy, Robert(Sr.)']}\n",
    "\n",
    "df_2015_16 = pd.DataFrame(whitmore_lake_2015_16)\n",
    "df_2015_16['Batch'] = df_2015_16['Name'].str[-4:-2]\n",
    "df_2015_16['Name'] = df_2015_16['Name'].str[:-5]\n",
    "df_2015_16['Year'] = 2015"
   ]
  },
  {
   "cell_type": "code",
   "execution_count": 9,
   "metadata": {
    "collapsed": true
   },
   "outputs": [],
   "source": [
    "whitmore_lake_2014_15 = {'Name':['Tanner, Austin(So.)',\n",
    "                                 'Weisberg, Matt(Fr.)',\n",
    "                                 'Flood, Austin(Jr.)',\n",
    "                                 'Leach, Steven(Fr.)',\n",
    "                                 'Krueger, Austin(Sr.)',\n",
    "                                 'Thoman, Ryan(Fr.)',\n",
    "                                 'Hardy, Kevin(Jr.)',\n",
    "                                 'Rondeau, Jim(Jr.)',\n",
    "                                 'Simmer, Devon(Sr.)',\n",
    "                                 'England, Cody(Sr.)',\n",
    "                                 'McKneelen, Zach(So.)',\n",
    "                                 'Dunn, Jacob(Jr.)',\n",
    "                                 'Iaquinto, Sam(Sr.)',\n",
    "                                 'Vega, David(Sr.)',\n",
    "                                 'Davidson, Donovan(Sr.)',\n",
    "                                 'Trobaugh, Mitchell(Jr.)',\n",
    "                                 'Wheeler, Austin(So.)',\n",
    "                                 'England, Cody(Sr.)',\n",
    "                                 'Hula, Ben(Jr.)',\n",
    "                                 'Murphy, Robert(Jr.)',\n",
    "                                 'Iaquinto, Sam jr.(Sr.)',\n",
    "                                 'Edwards, Austin(Jr.)',\n",
    "                                 'Spangler, Kyle(Sr.)',\n",
    "                                 'Rubin, Keith(Sr.)',\n",
    "                                 'Iaquinto, Spencer(So.)']}\n",
    "\n",
    "df_2014_15 = pd.DataFrame(whitmore_lake_2014_15)\n",
    "df_2014_15['Batch'] = df_2014_15['Name'].str[-4:-2]\n",
    "df_2014_15['Name'] = df_2014_15['Name'].str[:-5]\n",
    "df_2014_15['Year'] = 2014"
   ]
  },
  {
   "cell_type": "code",
   "execution_count": 10,
   "metadata": {
    "collapsed": true
   },
   "outputs": [],
   "source": [
    "whitmore_lake_2013_14 = {'Name':['Iaquinto, Sam Jr.(Jr.)',\n",
    "                                 'Simmer, Devon(Jr.)',\n",
    "                                 'Edwards, Austin(So.)',\n",
    "                                 'Rorabacher, John(Sr.)',\n",
    "                                 'Higgins, Mark(Jr.)',\n",
    "                                 'Iaquinto, Spencer(Fr.)',\n",
    "                                 'Rubin, Keith(Sr.)',\n",
    "                                 'Devin, Wilson(Sr.)',\n",
    "                                 'Tanner, Austin(Fr.)',\n",
    "                                 'Wheeler, Austin(Fr.)',\n",
    "                                 'Hula, Ben(So.)',\n",
    "                                 'Birk, Rickie(So.)',\n",
    "                                 'Dunn, Jacob(So.)',\n",
    "                                 'Daniels, Jason(Sr.)']}\n",
    "\n",
    "df_2013_14 = pd.DataFrame(whitmore_lake_2013_14)\n",
    "df_2013_14['Batch'] = df_2013_14['Name'].str[-4:-2]\n",
    "df_2013_14['Name'] = df_2013_14['Name'].str[:-5]\n",
    "df_2013_14['Year'] = 2013"
   ]
  },
  {
   "cell_type": "code",
   "execution_count": 11,
   "metadata": {
    "collapsed": true
   },
   "outputs": [],
   "source": [
    "whitmore_lake_2012_13 = {'Name':['Zach, Taylor(Jr.)',\n",
    "                                 'St. Charles, Dylan(Sr.)',\n",
    "                                 'Dunn, Jacob(Fr.)']}\n",
    "\n",
    "df_2012_13 = pd.DataFrame(whitmore_lake_2012_13)\n",
    "df_2012_13['Batch'] = df_2012_13['Name'].str[-4:-2]\n",
    "df_2012_13['Name'] = df_2012_13['Name'].str[:-5]\n",
    "df_2012_13['Year'] = 2012"
   ]
  },
  {
   "cell_type": "code",
   "execution_count": 12,
   "metadata": {
    "collapsed": true
   },
   "outputs": [],
   "source": [
    "whitmore_lake_2011_12 = {'Name':['Jacob, Zagor(So.)',\n",
    "#                                  'Jenkins, Mark',\n",
    "#                                  'Hoeft, Ethan',\n",
    "                                 'Devin, Wilson(So.)',\n",
    "                                 'Nicolas, Ferrin(So.)',\n",
    "                                 'Logan, Bender(So.)',\n",
    "                                 'Parker, Cirino(Fr.)',\n",
    "                                 'Mark, Higgins(Fr.)',\n",
    "                                 'Zach, Taylor(Fr.)',\n",
    "                                 'Cheng, Li(Jr.)',\n",
    "#                                  'Lee, Dan',\n",
    "#                                  'Wagner, William',\n",
    "#                                  'Zagor, Jacob',\n",
    "                                 'Wes, Little(Jr.)',\n",
    "#                                  'Moll, Josh',\n",
    "                                 'David, Vega(Fr.)',\n",
    "                                 'Dakota, Higbee(So.)',\n",
    "                                 'Curtis, Zuk(Jr.)',\n",
    "                                 'Zachery, Bishop(So.)',\n",
    "                                 'Evan, Maulbetsch(So.)',\n",
    "                                 'Mitch, Nagy(Fr.)',\n",
    "#                                  'Jackson, John',\n",
    "#                                  'Paniccaci, Sam',\n",
    "#                                  'Redlinger, Josh',\n",
    "                                 'St. Charles, Dylan(Jr.)',\n",
    "                                 'Devon, Simmer(Fr.)',\n",
    "#                                  'Fink, Dillon',\n",
    "                                 'Sam, Iaquinto(Fr.)']}\n",
    "\n",
    "df_2011_12 = pd.DataFrame(whitmore_lake_2011_12)\n",
    "df_2011_12['Batch'] = df_2011_12['Name'].str[-4:-2]\n",
    "df_2011_12['Name'] = df_2011_12['Name'].str[:-5]\n",
    "df_2011_12['Year'] = 2011"
   ]
  },
  {
   "cell_type": "code",
   "execution_count": 13,
   "metadata": {
    "collapsed": false
   },
   "outputs": [],
   "source": [
    "whitmore_lake_2009_10 = {'Name':['Maulbetsch, Ethan(Sr.)',\n",
    "                         'Bristol, Mavrick(Fr.)',\n",
    "                         'Avey, Tim(Jr.)',\n",
    "                         'Bujarski, Russ(Sr.)',\n",
    "                         'Youngs, Mike(Sr.)',\n",
    "                         'Goodnuff, Shane(Jr.)',\n",
    "                         'Judge, Colton(Sr.)',\n",
    "                         'Clinansmith, Jeff(Sr.)',\n",
    "                         'Kujawski, Zack(Sr.)',\n",
    "                         'Cattley, Alex(Sr.)',\n",
    "                         'Burkitt, Jesse(Jr.)',\n",
    "                         'Beurer, Mike(Sr.)',\n",
    "                         'Komor, Mike(Sr.)',\n",
    "                         'Ramirez, Vince(Sr.)',\n",
    "                         'Anderson, Gordie(Jr.)',\n",
    "                         'Goyer, James(Sr.)',\n",
    "                         'Cook, William(Jr.)',\n",
    "                         'McIntyre, Robert(Sr.)',\n",
    "                         'Griffin, Max(Sr.)',\n",
    "                         'Briggs, Steven(Jr.)',\n",
    "                         'Clinansmith, Jacob(Sr.)',\n",
    "                         'Wagner, William(So.)',\n",
    "                         'Moran, John(Jr.)',\n",
    "                         'St. Charles, Chase(Sr.)',\n",
    "                         'Kerrigan, Jake(Sr.)',\n",
    "                         'Yoo, Eugene(Jr.)']}\n",
    "\n",
    "df_2009_10 = pd.DataFrame(whitmore_lake_2009_10)\n",
    "df_2009_10['Batch'] = df_2009_10['Name'].str[-4:-2]\n",
    "df_2009_10['Name'] = df_2009_10['Name'].str[:-5]\n",
    "df_2009_10['Year'] = 2009"
   ]
  },
  {
   "cell_type": "code",
   "execution_count": 14,
   "metadata": {
    "collapsed": true
   },
   "outputs": [],
   "source": [
    "whitmore_lake_2008_09 = {'Name':['Gillespie, Vaughn(Jr.)',\n",
    "                                 'St. Charles, Chase(Jr.)',\n",
    "                                 'McIntyre, Robert(Jr.)',\n",
    "                                 'Pieske, Dj(Sr.)',\n",
    "                                 'Bolton, Tyler(Sr.)',\n",
    "                                 'Clinansmith, Jacob(Jr.)',\n",
    "                                 'Belcher, Jacob(Sr.)',\n",
    "                                 'Strautz, Tom(Sr.)',\n",
    "                                 'Nagy, Garrett(Sr.)',\n",
    "                                 'Maulbetsch, Ethan(Jr.)',\n",
    "                                 'Bujarski, Russ(Jr.)',\n",
    "                                 'Keely, Alex(Sr.)',\n",
    "                                 'Kerrigan, Jake(Jr.)',\n",
    "                                 'Griffin, Max(Jr.)',\n",
    "                                 'Kujawski, Zack(Jr.)',\n",
    "                                 'Preston, Jayson(Sr.)',\n",
    "                                 'Los, John(Sr.)',\n",
    "                                 'Hamlin, James(Sr.)',\n",
    "                                 'Park, Won Kun(So.)',\n",
    "                                 'Youngs, Mike(Jr.)',\n",
    "                                 'Goyer, James(Jr.)',\n",
    "                                 'Oberstaedt, Corey(Sr.)',\n",
    "                                 'Foster, Ryan(Sr.)',\n",
    "                                 'Cattley, Alex(Jr.)',\n",
    "                                 'Beurer, Mike(Jr.)',\n",
    "                                 'Ramirez, Vince(Jr.)',\n",
    "                                 'Clinansmith, Jeff(Jr.)',\n",
    "                                 'Komor, Mike(Jr.)',\n",
    "                                 'Leonard, Cody(Sr.)']}\n",
    "\n",
    "df_2008_09 = pd.DataFrame(whitmore_lake_2008_09)\n",
    "df_2008_09['Batch'] = df_2008_09['Name'].str[-4:-2]\n",
    "df_2008_09['Name'] = df_2008_09['Name'].str[:-5]\n",
    "df_2008_09['Year'] = 2008"
   ]
  },
  {
   "cell_type": "code",
   "execution_count": 15,
   "metadata": {
    "collapsed": true
   },
   "outputs": [],
   "source": [
    "whitmore_lake_2007_08 = {'Name':['Lees, Ben(Sr.)',\n",
    "                                 'St. Charles, Chase(So.)',\n",
    "                                 'McIntyre, Robert(So.)',\n",
    "                                 'Moll, Josh(So.)',\n",
    "                                 'Corwin, Bo(Sr.)',\n",
    "                                 'Komor, Michael(So.)',\n",
    "                                 'Strautz, Tom(Jr.)',\n",
    "                                 'Lyons, Kevin(Sr.)',\n",
    "                                 'Ramey, Billy(Sr.)',\n",
    "                                 'Trapp, Spencer(Sr.)',\n",
    "                                 'Nagy, Garrett(Jr.)',\n",
    "                                 'Pieske, D. J.(Jr.)',\n",
    "                                 'Wilson, Josh(Sr.)',\n",
    "                                 'Maulbetsch, Ethan(So.)',\n",
    "                                 'Steiner, Phillip(Sr.)',\n",
    "                                 'Keely, Alex(Jr.)',\n",
    "                                 'Griffin, Max(So.)',\n",
    "                                 'Foster, Ryan(Jr.)',\n",
    "                                 'Los, John(Jr.)',\n",
    "                                 'Hamlin, James(Jr.)',\n",
    "                                 'Oberstaedt, Corey(Jr.)',\n",
    "                                 'Peer, Shae(Sr.)',\n",
    "                                 'Leonard, Ben(Sr.)',\n",
    "                                 'Doman, David(Sr.)',\n",
    "                                 'Ketzner, Justin(Sr.)',\n",
    "                                 'Kerrigan, Patrick(Sr.)',\n",
    "                                 'Namiki, Ryo(Sr.)',\n",
    "                                 'Rosati, David(Sr.)']}\n",
    "\n",
    "df_2007_08 = pd.DataFrame(whitmore_lake_2007_08)\n",
    "df_2007_08['Batch'] = df_2007_08['Name'].str[-4:-2]\n",
    "df_2007_08['Name'] = df_2007_08['Name'].str[:-5]\n",
    "df_2007_08['Year'] = 2007"
   ]
  },
  {
   "cell_type": "code",
   "execution_count": 16,
   "metadata": {
    "collapsed": false
   },
   "outputs": [],
   "source": [
    "df = pd.concat([df_2007_08, df_2008_09, df_2009_10, df_2011_12,\n",
    "                df_2012_13, df_2013_14, df_2014_15, df_2015_16, df_2016_17, \n",
    "                df_2017_18, df_2018_19, df_2019_20, df_2020_21, df_2021_22], \n",
    "               axis=0)\n",
    "df = df.reset_index(drop = True)"
   ]
  },
  {
   "cell_type": "code",
   "execution_count": 17,
   "metadata": {
    "collapsed": false
   },
   "outputs": [
    {
     "data": {
      "text/html": [
       "<div>\n",
       "<table border=\"1\" class=\"dataframe\">\n",
       "  <thead>\n",
       "    <tr style=\"text-align: right;\">\n",
       "      <th></th>\n",
       "      <th>Name</th>\n",
       "      <th>Batch</th>\n",
       "      <th>Year</th>\n",
       "    </tr>\n",
       "  </thead>\n",
       "  <tbody>\n",
       "    <tr>\n",
       "      <th>0</th>\n",
       "      <td>Lees, Ben</td>\n",
       "      <td>Sr</td>\n",
       "      <td>2007</td>\n",
       "    </tr>\n",
       "    <tr>\n",
       "      <th>1</th>\n",
       "      <td>St. Charles, Chase</td>\n",
       "      <td>So</td>\n",
       "      <td>2007</td>\n",
       "    </tr>\n",
       "    <tr>\n",
       "      <th>2</th>\n",
       "      <td>McIntyre, Robert</td>\n",
       "      <td>So</td>\n",
       "      <td>2007</td>\n",
       "    </tr>\n",
       "    <tr>\n",
       "      <th>3</th>\n",
       "      <td>Moll, Josh</td>\n",
       "      <td>So</td>\n",
       "      <td>2007</td>\n",
       "    </tr>\n",
       "    <tr>\n",
       "      <th>4</th>\n",
       "      <td>Corwin, Bo</td>\n",
       "      <td>Sr</td>\n",
       "      <td>2007</td>\n",
       "    </tr>\n",
       "  </tbody>\n",
       "</table>\n",
       "</div>"
      ],
      "text/plain": [
       "                 Name Batch  Year\n",
       "0           Lees, Ben    Sr  2007\n",
       "1  St. Charles, Chase    So  2007\n",
       "2    McIntyre, Robert    So  2007\n",
       "3          Moll, Josh    So  2007\n",
       "4          Corwin, Bo    Sr  2007"
      ]
     },
     "execution_count": 17,
     "metadata": {},
     "output_type": "execute_result"
    }
   ],
   "source": [
    "df.head(5)"
   ]
  },
  {
   "cell_type": "code",
   "execution_count": 18,
   "metadata": {
    "collapsed": false
   },
   "outputs": [],
   "source": [
    "import matplotlib.pyplot as plt\n",
    "import numpy as np"
   ]
  },
  {
   "cell_type": "code",
   "execution_count": 19,
   "metadata": {
    "collapsed": false
   },
   "outputs": [
    {
     "data": {
      "text/html": [
       "<div>\n",
       "<table border=\"1\" class=\"dataframe\">\n",
       "  <thead>\n",
       "    <tr style=\"text-align: right;\">\n",
       "      <th></th>\n",
       "      <th>Year</th>\n",
       "      <th>Batch</th>\n",
       "      <th>Count</th>\n",
       "    </tr>\n",
       "  </thead>\n",
       "  <tbody>\n",
       "    <tr>\n",
       "      <th>0</th>\n",
       "      <td>2007</td>\n",
       "      <td>Jr</td>\n",
       "      <td>8</td>\n",
       "    </tr>\n",
       "    <tr>\n",
       "      <th>1</th>\n",
       "      <td>2007</td>\n",
       "      <td>So</td>\n",
       "      <td>6</td>\n",
       "    </tr>\n",
       "    <tr>\n",
       "      <th>2</th>\n",
       "      <td>2007</td>\n",
       "      <td>Sr</td>\n",
       "      <td>14</td>\n",
       "    </tr>\n",
       "    <tr>\n",
       "      <th>3</th>\n",
       "      <td>2008</td>\n",
       "      <td>Jr</td>\n",
       "      <td>16</td>\n",
       "    </tr>\n",
       "    <tr>\n",
       "      <th>4</th>\n",
       "      <td>2008</td>\n",
       "      <td>So</td>\n",
       "      <td>1</td>\n",
       "    </tr>\n",
       "    <tr>\n",
       "      <th>5</th>\n",
       "      <td>2008</td>\n",
       "      <td>Sr</td>\n",
       "      <td>12</td>\n",
       "    </tr>\n",
       "    <tr>\n",
       "      <th>6</th>\n",
       "      <td>2009</td>\n",
       "      <td>Fr</td>\n",
       "      <td>1</td>\n",
       "    </tr>\n",
       "    <tr>\n",
       "      <th>7</th>\n",
       "      <td>2009</td>\n",
       "      <td>Jr</td>\n",
       "      <td>8</td>\n",
       "    </tr>\n",
       "    <tr>\n",
       "      <th>8</th>\n",
       "      <td>2009</td>\n",
       "      <td>So</td>\n",
       "      <td>1</td>\n",
       "    </tr>\n",
       "    <tr>\n",
       "      <th>9</th>\n",
       "      <td>2009</td>\n",
       "      <td>Sr</td>\n",
       "      <td>16</td>\n",
       "    </tr>\n",
       "  </tbody>\n",
       "</table>\n",
       "</div>"
      ],
      "text/plain": [
       "   Year Batch  Count\n",
       "0  2007    Jr      8\n",
       "1  2007    So      6\n",
       "2  2007    Sr     14\n",
       "3  2008    Jr     16\n",
       "4  2008    So      1\n",
       "5  2008    Sr     12\n",
       "6  2009    Fr      1\n",
       "7  2009    Jr      8\n",
       "8  2009    So      1\n",
       "9  2009    Sr     16"
      ]
     },
     "execution_count": 19,
     "metadata": {},
     "output_type": "execute_result"
    }
   ],
   "source": [
    "df_count = df.groupby([\"Year\", \"Batch\"]).size().reset_index(name=\"Count\")\n",
    "df_count.head(10)"
   ]
  },
  {
   "cell_type": "code",
   "execution_count": 20,
   "metadata": {
    "collapsed": false
   },
   "outputs": [
    {
     "data": {
      "text/html": [
       "<div>\n",
       "<table border=\"1\" class=\"dataframe\">\n",
       "  <thead>\n",
       "    <tr style=\"text-align: right;\">\n",
       "      <th></th>\n",
       "      <th>Year</th>\n",
       "      <th>Sum</th>\n",
       "    </tr>\n",
       "  </thead>\n",
       "  <tbody>\n",
       "    <tr>\n",
       "      <th>0</th>\n",
       "      <td>2007</td>\n",
       "      <td>28</td>\n",
       "    </tr>\n",
       "    <tr>\n",
       "      <th>1</th>\n",
       "      <td>2008</td>\n",
       "      <td>29</td>\n",
       "    </tr>\n",
       "    <tr>\n",
       "      <th>2</th>\n",
       "      <td>2009</td>\n",
       "      <td>26</td>\n",
       "    </tr>\n",
       "    <tr>\n",
       "      <th>3</th>\n",
       "      <td>2011</td>\n",
       "      <td>18</td>\n",
       "    </tr>\n",
       "    <tr>\n",
       "      <th>4</th>\n",
       "      <td>2012</td>\n",
       "      <td>3</td>\n",
       "    </tr>\n",
       "    <tr>\n",
       "      <th>5</th>\n",
       "      <td>2013</td>\n",
       "      <td>14</td>\n",
       "    </tr>\n",
       "    <tr>\n",
       "      <th>6</th>\n",
       "      <td>2014</td>\n",
       "      <td>25</td>\n",
       "    </tr>\n",
       "    <tr>\n",
       "      <th>7</th>\n",
       "      <td>2015</td>\n",
       "      <td>26</td>\n",
       "    </tr>\n",
       "    <tr>\n",
       "      <th>8</th>\n",
       "      <td>2016</td>\n",
       "      <td>27</td>\n",
       "    </tr>\n",
       "    <tr>\n",
       "      <th>9</th>\n",
       "      <td>2017</td>\n",
       "      <td>27</td>\n",
       "    </tr>\n",
       "    <tr>\n",
       "      <th>10</th>\n",
       "      <td>2018</td>\n",
       "      <td>4</td>\n",
       "    </tr>\n",
       "    <tr>\n",
       "      <th>11</th>\n",
       "      <td>2019</td>\n",
       "      <td>10</td>\n",
       "    </tr>\n",
       "    <tr>\n",
       "      <th>12</th>\n",
       "      <td>2020</td>\n",
       "      <td>17</td>\n",
       "    </tr>\n",
       "    <tr>\n",
       "      <th>13</th>\n",
       "      <td>2021</td>\n",
       "      <td>22</td>\n",
       "    </tr>\n",
       "  </tbody>\n",
       "</table>\n",
       "</div>"
      ],
      "text/plain": [
       "    Year  Sum\n",
       "0   2007   28\n",
       "1   2008   29\n",
       "2   2009   26\n",
       "3   2011   18\n",
       "4   2012    3\n",
       "5   2013   14\n",
       "6   2014   25\n",
       "7   2015   26\n",
       "8   2016   27\n",
       "9   2017   27\n",
       "10  2018    4\n",
       "11  2019   10\n",
       "12  2020   17\n",
       "13  2021   22"
      ]
     },
     "execution_count": 20,
     "metadata": {},
     "output_type": "execute_result"
    }
   ],
   "source": [
    "df_sum = df.groupby([\"Year\"]).size().reset_index(name=\"Sum\")\n",
    "df_sum.head(15)"
   ]
  },
  {
   "cell_type": "code",
   "execution_count": 21,
   "metadata": {
    "collapsed": false
   },
   "outputs": [],
   "source": [
    "fr_2007 = {'Year': 2007, 'Batch': 'Fr', 'Count':0}\n",
    "df_count = df_count.append(fr_2007, ignore_index=True)\n",
    "\n",
    "fr_2008 = {'Year': 2008, 'Batch': 'Fr', 'Count':0}\n",
    "df_count = df_count.append(fr_2008, ignore_index=True)\n",
    "\n",
    "fr_2015 = {'Year': 2015, 'Batch': 'Fr', 'Count':0}\n",
    "df_count = df_count.append(fr_2015, ignore_index=True)\n",
    "\n",
    "so_2012 = {'Year': 2012, 'Batch': 'So', 'Count':0}\n",
    "df_count = df_count.append(so_2012, ignore_index=True)\n",
    "so_2018 = {'Year': 2018, 'Batch': 'So', 'Count':0}\n",
    "df_count = df_count.append(so_2018, ignore_index=True)\n",
    "\n",
    "jr_2018 = {'Year': 2018, 'Batch': 'Jr', 'Count':0}\n",
    "df_count = df_count.append(jr_2018, ignore_index=True)\n",
    "jr_2019 = {'Year': 2019, 'Batch': 'Jr', 'Count':0}\n",
    "df_count = df_count.append(jr_2019, ignore_index=True)\n",
    "\n",
    "sr_2011 = {'Year': 2011, 'Batch': 'Sr', 'Count':0}\n",
    "df_count = df_count.append(sr_2011, ignore_index=True)\n",
    "sr_2018 = {'Year': 2018, 'Batch': 'Sr', 'Count':0}\n",
    "df_count = df_count.append(sr_2018, ignore_index=True)\n",
    "sr_2019 = {'Year': 2019, 'Batch': 'Sr', 'Count':0}\n",
    "df_count = df_count.append(sr_2019, ignore_index=True)\n",
    "sr_2020 = {'Year': 2020, 'Batch': 'Sr', 'Count':0}\n",
    "df_count = df_count.append(sr_2020, ignore_index=True)\n",
    "\n",
    "# Sorting values\n",
    "df_count = df_count.sort_values(by=['Year', 'Batch']).reset_index(drop = True)"
   ]
  },
  {
   "cell_type": "code",
   "execution_count": 22,
   "metadata": {
    "collapsed": true
   },
   "outputs": [],
   "source": [
    "year = [2007, 2008, 2009, 2011, 2012, 2013, 2014, 2015, 2016, 2017, 2018, 2019, 2020, 2021]\n",
    "fr = df_count[df_count['Batch'] == 'Fr'].reset_index(drop=True)['Count']\n",
    "so = df_count[df_count['Batch'] == 'So'].reset_index(drop=True)['Count']\n",
    "jr = df_count[df_count['Batch'] == 'Jr'].reset_index(drop=True)['Count']\n",
    "sr = df_count[df_count['Batch'] == 'Sr'].reset_index(drop=True)['Count']"
   ]
  },
  {
   "cell_type": "code",
   "execution_count": 23,
   "metadata": {
    "collapsed": false
   },
   "outputs": [],
   "source": [
    "fr_list = fr.tolist()\n",
    "so_list = so.tolist()\n",
    "jr_list = jr.tolist()\n",
    "sr_list = sr.tolist()"
   ]
  },
  {
   "cell_type": "code",
   "execution_count": 24,
   "metadata": {
    "collapsed": true
   },
   "outputs": [],
   "source": [
    "fr_percent = (fr / df_sum['Sum']) * 100\n",
    "so_percent = (so / df_sum['Sum']) * 100\n",
    "jr_percent = (jr / df_sum['Sum']) * 100\n",
    "sr_percent = (sr / df_sum['Sum']) * 100"
   ]
  },
  {
   "cell_type": "code",
   "execution_count": 25,
   "metadata": {
    "collapsed": false
   },
   "outputs": [],
   "source": [
    "fr_percent_list = fr_percent.tolist()\n",
    "so_percent_list = so_percent.tolist()\n",
    "jr_percent_list = jr_percent.tolist()\n",
    "sr_percent_list = sr_percent.tolist()"
   ]
  },
  {
   "cell_type": "code",
   "execution_count": 26,
   "metadata": {
    "collapsed": false
   },
   "outputs": [
    {
     "data": {
      "text/plain": [
       "56"
      ]
     },
     "execution_count": 26,
     "metadata": {},
     "output_type": "execute_result"
    }
   ],
   "source": [
    "values = fr_percent_list + so_percent_list + jr_percent_list + sr_percent_list\n",
    "len(values)"
   ]
  },
  {
   "cell_type": "code",
   "execution_count": 32,
   "metadata": {
    "collapsed": false,
    "scrolled": false
   },
   "outputs": [
    {
     "data": {
      "image/png": "[encoded data removed]",
      "text/plain": [
       "<matplotlib.figure.Figure at 0x7fc3890ef2e8>"
      ]
     },
     "metadata": {},
     "output_type": "display_data"
    }
   ],
   "source": [
    "fig, ax = plt.subplots(figsize=(15, 12)) \n",
    "# plt.figure(figsize=(10, 8))\n",
    "\n",
    "ax.bar(year, fr, color='lightcoral')\n",
    "ax.bar(year, so, bottom=fr, color='lightblue')\n",
    "ax.bar(year, jr, bottom=fr+so, color='thistle')\n",
    "ax.bar(year, sr, bottom=fr+so+jr, color='lightgreen')\n",
    "\n",
    "ax.spines['right'].set_visible(False)\n",
    "ax.spines['top'].set_visible(False)\n",
    "\n",
    "ax.legend([\"Freshmen\", \"Sophomore\", \"Junior\", \"Senior\"])\n",
    "        \n",
    "ax.set_xticks(year)\n",
    "plt.ylabel(\"Count\", fontsize=15)\n",
    "plt.xlabel(\"Year\", fontsize=15)\n",
    "\n",
    "plt.title(\"Distribution of Grade-Year of Varsity Football Players \\n Whitmore Lake Trojans \\n 2007 - 2021\", fontsize=18)\n",
    "\n",
    "kx = -0.35\n",
    "ky = -0.2\n",
    "\n",
    "for i,rec in enumerate(ax.patches):\n",
    "#     print(i)\n",
    "#     print(\"{%2d}\" % (rec.get_xy()[0]))\n",
    "#     print(\"{%2d}\" % (rec.get_xy()[1]))\n",
    "#     print(i)\n",
    "    if values[i] != 0:\n",
    "        ax.text(rec.get_xy()[0]+rec.get_width()/2+kx,\n",
    "                rec.get_xy()[1]+rec.get_height()/2+ky,'{:.1%}'.format(values[i] / 100), fontsize=12, color='black')\n",
    "    \n",
    "# sns.despine(top=True, right=True, left=False, bottom=False)\n",
    "plt.show()"
   ]
  }
 ],
 "metadata": {
  "kernelspec": {
   "display_name": "Python 3",
   "language": "python",
   "name": "python3"
  },
  "language_info": {
   "codemirror_mode": {
    "name": "ipython",
    "version": 3
   },
   "file_extension": ".py",
   "mimetype": "text/x-python",
   "name": "python",
   "nbconvert_exporter": "python",
   "pygments_lexer": "ipython3",
   "version": "3.6.2"
  }
 },
 "nbformat": 4,
 "nbformat_minor": 1
}
